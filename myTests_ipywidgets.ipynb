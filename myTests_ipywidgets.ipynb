{
 "cells": [
  {
   "cell_type": "markdown",
   "id": "d6419471-932a-404a-ae54-b870193448c5",
   "metadata": {},
   "source": [
    "# some Examples with `ipywidgets`"
   ]
  },
  {
   "cell_type": "markdown",
   "id": "0f12b792-3ef9-46f4-a683-bd1feb4c8ab5",
   "metadata": {},
   "source": [
    "best short explaination see: [NeuralNine @ youtube](https://www.youtube.com/watch?v=jWT-HXv0LUQ)"
   ]
  },
  {
   "cell_type": "markdown",
   "id": "83f34b87-a725-46e1-822b-5a0017cca53e",
   "metadata": {
    "tags": []
   },
   "source": [
    "## small Example"
   ]
  },
  {
   "cell_type": "code",
   "execution_count": 1,
   "id": "86ebe91b-e924-4b63-bec7-d2484b9cb0ac",
   "metadata": {
    "tags": []
   },
   "outputs": [
    {
     "data": {
      "application/vnd.jupyter.widget-view+json": {
       "model_id": "1405e670d29b4deeb6b1231b6e097848",
       "version_major": 2,
       "version_minor": 0
      },
      "text/plain": [
       "interactive(children=(IntSlider(value=5, description='x', max=10), Dropdown(description='pow', index=2, option…"
      ]
     },
     "metadata": {},
     "output_type": "display_data"
    }
   ],
   "source": [
    "%matplotlib inline\n",
    "\n",
    "import ipywidgets as widgets\n",
    "from ipywidgets import HBox, VBox\n",
    "import numpy as np\n",
    "import matplotlib.pyplot as plt\n",
    "from IPython.display import display\n",
    "\n",
    "# apply widget as a wrapper to a fuction\n",
    "@widgets.interact(x=(0, 10), pow=[0,1, 2, 3, 4])\n",
    "def f(x=5, pow=2):\n",
    "    print('x: ', [x**pow for x in np.arange(x+1)])"
   ]
  },
  {
   "cell_type": "markdown",
   "id": "3342720a-3197-4b55-9c11-4d7d0e02a98c",
   "metadata": {
    "tags": []
   },
   "source": [
    "## Parabola"
   ]
  },
  {
   "cell_type": "markdown",
   "id": "d47ef833-d771-446d-a773-d3398324de98",
   "metadata": {
    "tags": []
   },
   "source": [
    "see: [ipywidgets @ read the docs - examples >> interact()](https://ipywidgets.readthedocs.io/en/stable/examples/Using%20Interact.html)"
   ]
  },
  {
   "cell_type": "markdown",
   "id": "2e507e4e-5005-4113-8d31-e0d436951f2b",
   "metadata": {
    "tags": []
   },
   "source": [
    "### function for plotting the diagram\n",
    "\n",
    "let's define a fuction for plotting a parabola and tangent\n",
    "- aproach\n",
    "  1. just start usual matplotlib plt definition\n",
    "  2. indent that block\n",
    "  3. before 1st line: make a ```def fuction(parameters):``` line \n",
    "  4. add a return; the ```return(plt.show()```"
   ]
  },
  {
   "cell_type": "code",
   "execution_count": 2,
   "id": "a49d3918-c633-4a96-8b98-33faf634a07e",
   "metadata": {
    "tags": []
   },
   "outputs": [
    {
     "data": {
      "image/png": "[encoded data removed]",
      "text/plain": [
       "<Figure size 400x400 with 1 Axes>"
      ]
     },
     "metadata": {},
     "output_type": "display_data"
    }
   ],
   "source": [
    "%matplotlib inline\n",
    "\n",
    "import matplotlib.pyplot as plt\n",
    "import ipywidgets as widgets\n",
    "from IPython.display import display\n",
    "from matplotlib.lines import Line2D\n",
    "\n",
    "import numpy as np\n",
    "\n",
    "##########################\n",
    "# some helper functions \n",
    "# used at main figure plot\n",
    "##########################\n",
    "def gen_parabel_data(xmin:int, xmax:int, num_of_points:int) -> (np.ndarray, np.ndarray):\n",
    "    x_arr = np.linspace(xmin, xmax, num=num_of_points, endpoint=True )\n",
    "    y_arr = x_arr ** 2\n",
    "    return(x_arr, y_arr)\n",
    "\n",
    "def set_axis_xy_limits(ax:plt.axis, x_arr:np.ndarray, y_arr:np.ndarray) -> plt.axis:\n",
    "    ax.set_xlim( (np.min(x_arr) * 1.1, np.max(x_arr) * 1.1) )\n",
    "    ax.set_ylim( (-5, np.max(y_arr) * 1.1) )\n",
    "    return(ax)\n",
    "\n",
    "def calc_and_add_tangente(ax:plt.axis, x_coord_of_point:float, slope_factor:float, color='green') -> plt.axis:\n",
    "    radius = 100\n",
    "    pt_x = x_coord_of_point\n",
    "    m = slope_factor   # for parabel: y'=2x or in general: y=mx+b; here: m=2x\n",
    "    w_rad = np.arctan(m)  # aus f'=2x oder y_tangente=m*x+b => m=2x; m ist die Steigung\n",
    "    tang_x_arr = np.sort([pt_x + radius * np.cos(w_rad), \n",
    "                          pt_x - radius * np.cos(w_rad) ])\n",
    "    #              \n",
    "    tang_y_arr = [2*pt_x * x -1*(pt_x ** 2)   for x in tang_x_arr]\n",
    "    tang = Line2D(tang_x_arr,\n",
    "                  tang_y_arr,\n",
    "                  c=color,\n",
    "                  lw=1)\n",
    "    ax.add_artist(tang)\n",
    "    return(ax)\n",
    "\n",
    "def add_cross_lines(ax: plt.axis, x_coord_of_point:float) -> plt.axis:\n",
    "    pt_x = x_coord_of_point\n",
    "    ax.vlines(pt_x, \n",
    "              ymin=-10, \n",
    "              ymax=200, \n",
    "              color='gray', \n",
    "              linestyles='dotted')\n",
    "    ax.hlines(pt_x ** 2, \n",
    "              xmin=-20, \n",
    "              xmax=20, \n",
    "              color='gray', \n",
    "              linestyles='dotted')\n",
    "    return(ax)\n",
    "\n",
    "##########################\n",
    "# the main figure plot\n",
    "##########################\n",
    "def show_diagram(pt_x=0, color_tang='green', crosslines=True):\n",
    "    # the figure, axes \n",
    "    fig = plt.figure(figsize=(4,4))\n",
    "    ax = fig.add_subplot(111)\n",
    "    \n",
    "    # the parabel\n",
    "    x_arr, y_arr = gen_parabel_data(-10, 10, 100)\n",
    "    \n",
    "    # diagram's limits to show\n",
    "    ax = set_axis_xy_limits(ax, x_arr, y_arr)\n",
    "\n",
    "    # plot the parabel\n",
    "    ax.plot(x_arr, y_arr, lw=2)\n",
    "\n",
    "    # calc the tangente, and\n",
    "    # add as a Line2D to diagram             \n",
    "    ax = calc_and_add_tangente(ax, pt_x, 2*pt_x, color_tang)\n",
    "    \n",
    "    # plot the red point\n",
    "    ax.plot(pt_x, pt_x ** 2, c='r', marker='o')\n",
    "    \n",
    "    # give cross lines through point\n",
    "    if crosslines:\n",
    "        ax = add_cross_lines(ax, pt_x)\n",
    "    \n",
    "    # set title of diagram\n",
    "    ax.set_title( 'Parabola: $f_{(x)} = ' + ' x^{2}$\\nwith Tangent')  \n",
    "    \n",
    "    # show the diagram\n",
    "    return(fig.show())\n",
    "\n",
    "show_diagram(pt_x=0, color_tang='green', crosslines=True)"
   ]
  },
  {
   "cell_type": "markdown",
   "id": "755ff242-614b-492f-9ff4-12d817aacd23",
   "metadata": {
    "tags": []
   },
   "source": [
    "### Interaction by widget `FloatSilder`\n",
    "\n",
    "by `FloatSlider` you can manipulate the tangent running around the parabola"
   ]
  },
  {
   "cell_type": "code",
   "execution_count": 3,
   "id": "49247653-1578-4d0c-83a7-64d1d4e33d77",
   "metadata": {
    "tags": []
   },
   "outputs": [
    {
     "data": {
      "application/vnd.jupyter.widget-view+json": {
       "model_id": "d0dce8201e1f47a18023c438cd7632f1",
       "version_major": 2,
       "version_minor": 0
      },
      "text/plain": [
       "interactive(children=(FloatSlider(value=0.0, description='pt_x', max=10.0, min=-10.0, step=0.25), Dropdown(des…"
      ]
     },
     "metadata": {},
     "output_type": "display_data"
    }
   ],
   "source": [
    "widgets.interact(show_diagram,            # the function \n",
    "                 pt_x=(-10, 10, 0.25),    # parameter 1 - as a slider\n",
    "                                          # parameter 2 - as a combobox\n",
    "                 color_tang=['green', 'orange', 'silver'],\n",
    "                 crosslines=True);        # parameter 3 - checkbox"
   ]
  },
  {
   "cell_type": "markdown",
   "id": "8206f836-12bb-4c57-a118-028e197d369a",
   "metadata": {},
   "source": [
    "if you want to have more control about the slider's parameters, use:"
   ]
  },
  {
   "cell_type": "code",
   "execution_count": 4,
   "id": "0ffe42dd-e165-4a8c-bf3f-679f4a963d55",
   "metadata": {
    "tags": []
   },
   "outputs": [
    {
     "data": {
      "application/vnd.jupyter.widget-view+json": {
       "model_id": "d12f185b3aa5431a827d007792c943f4",
       "version_major": 2,
       "version_minor": 0
      },
      "text/plain": [
       "interactive(children=(FloatSlider(value=0.0, description='$Pt_{x}$', max=10.0, min=-10.0, step=0.25), Dropdown…"
      ]
     },
     "metadata": {},
     "output_type": "display_data"
    }
   ],
   "source": [
    "###################################\n",
    "# apply the interger-slider widget\n",
    "###################################\n",
    "# but, here you have full control :-)\n",
    "w = widgets.interact(show_diagram,\n",
    "                     pt_x=widgets.FloatSlider(min=-10, \n",
    "                                              max=10, \n",
    "                                              step=0.25, \n",
    "                                              value=0,\n",
    "                                              description='$Pt_{x}$',\n",
    "                                              continuous_update=True),\n",
    "                     color_tang = ['green', 'orange', 'silver'],\n",
    "                     crosslines = True\n",
    "                    );"
   ]
  },
  {
   "cell_type": "markdown",
   "id": "b6b76566-0c53-4670-8bb2-9537c5f53819",
   "metadata": {
    "tags": []
   },
   "source": [
    "### Interaction by widget `Play`\n",
    "\n",
    "by `Play` you start the tangent automatically running around the parabola"
   ]
  },
  {
   "cell_type": "code",
   "execution_count": 5,
   "id": "30cb0215-0db1-45c9-a90b-715f58d60e2d",
   "metadata": {
    "tags": []
   },
   "outputs": [
    {
     "data": {
      "application/vnd.jupyter.widget-view+json": {
       "model_id": "659931bf7d9f44c495c7add475641b16",
       "version_major": 2,
       "version_minor": 0
      },
      "text/plain": [
       "interactive(children=(Play(value=-10, description='Press play', interval=250, max=10, min=-10), Dropdown(descr…"
      ]
     },
     "metadata": {},
     "output_type": "display_data"
    }
   ],
   "source": [
    "widgets.interact(show_diagram, \n",
    "                 pt_x=widgets.Play(value=-10,\n",
    "                                   min=-10,\n",
    "                                   max=10,\n",
    "                                   step=1,        # step minimum == 1 (int only)\n",
    "                                   interval=250,  # time betwenn steps in millisec\n",
    "                                   description=\"Press play\",\n",
    "                                   disabled=False # to enable the widget\n",
    "                                  ),\n",
    "                 color_tang = ['green', 'orange', 'silver'],\n",
    "                 crosslines = True\n",
    "                );"
   ]
  },
  {
   "cell_type": "markdown",
   "id": "ee00b310-89e7-4226-8111-9dfc0e22abdd",
   "metadata": {},
   "source": [
    "## Interact with both widgets `Play` and `FloatSlider`: `jslink`ed\n",
    "\n",
    "by jslinked widget you can choose\n",
    "  1. to play the sequence, or\n",
    "  2. stop it any time and manipulate by mouse"
   ]
  },
  {
   "cell_type": "code",
   "execution_count": 6,
   "id": "e808365c-f2fe-4d6b-b9b7-00354ed7ad14",
   "metadata": {
    "tags": []
   },
   "outputs": [
    {
     "data": {
      "application/vnd.jupyter.widget-view+json": {
       "model_id": "96a1b69cf87e4dfb9f57f3ae3a42685a",
       "version_major": 2,
       "version_minor": 0
      },
      "text/plain": [
       "VBox(children=(HBox(children=(Play(value=-10, description='Press play', interval=250, max=10, min=-10), FloatS…"
      ]
     },
     "metadata": {},
     "output_type": "display_data"
    },
    {
     "data": {
      "application/vnd.jupyter.widget-view+json": {
       "model_id": "a89d3d417f3a4606825b047b85c92a03",
       "version_major": 2,
       "version_minor": 0
      },
      "text/plain": [
       "Output()"
      ]
     },
     "metadata": {},
     "output_type": "display_data"
    }
   ],
   "source": [
    "import ipywidgets as widgets\n",
    "from IPython.display import display\n",
    "\n",
    "play = widgets.Play(value=-10,\n",
    "                 min=-10,\n",
    "                 max=10,\n",
    "                 step=1,         # step minimum == 1 (integers only)\n",
    "                 interval=250,   # time between steps in millisec\n",
    "                 description=\"Press play\",\n",
    "                 disabled=False) # to enable the widget\n",
    "\n",
    "fslider = widgets.FloatSlider(min=-10, \n",
    "                              max=10, \n",
    "                              step=0.25, \n",
    "                              value=0,\n",
    "                              description='$Pt_{x}$',\n",
    "                              continuous_update=True)\n",
    "\n",
    "c_dropdown = widgets.Dropdown(\n",
    "                options=['green', 'orange', 'silver'],\n",
    "                value='green',\n",
    "                description='color_tang',\n",
    "                continuous_update=True)\n",
    "\n",
    "crosslines_cb = widgets.Checkbox(\n",
    "    value=False,\n",
    "    description='crosslines',\n",
    "    disabled=False,\n",
    "    indent=False)\n",
    "\n",
    "widgets.jslink((play, 'value'), (fslider, 'value')) # the jslink\n",
    "ui = widgets.VBox([\n",
    "        widgets.HBox([play, fslider]), # to display them apart horizontally\n",
    "        c_dropdown,\n",
    "        crosslines_cb ])\n",
    "\n",
    "def f(play, fslider, c_dropdown, crosslines_cb):\n",
    "    # as widgets are jslinl_ed we only need one of them\n",
    "    show_diagram(play, c_dropdown, crosslines_cb)\n",
    "\n",
    "out = widgets.interactive_output(f, {'play': play, \n",
    "                                     'fslider': fslider,\n",
    "                                     'c_dropdown' : c_dropdown,\n",
    "                                     'crosslines_cb' : crosslines_cb\n",
    "                                    })\n",
    "\n",
    "display(ui, out) # the output"
   ]
  },
  {
   "cell_type": "code",
   "execution_count": null,
   "id": "41bdfc3c-3d27-4462-afbc-41dd66f2ad5e",
   "metadata": {},
   "outputs": [],
   "source": []
  }
 ],
 "metadata": {
  "kernelspec": {
   "display_name": "Python 3 (ipykernel)",
   "language": "python",
   "name": "python3"
  },
  "language_info": {
   "codemirror_mode": {
    "name": "ipython",
    "version": 3
   },
   "file_extension": ".py",
   "mimetype": "text/x-python",
   "name": "python",
   "nbconvert_exporter": "python",
   "pygments_lexer": "ipython3",
   "version": "3.10.10"
  },
  "widgets": {
   "application/vnd.jupyter.widget-state+json": {
    "state": {
     "0a40c5f33d594722a6df902f86fc742c": {
      "model_module": "@jupyter-widgets/controls",
      "model_module_version": "2.0.0",
      "model_name": "FloatSliderModel",
      "state": {
       "behavior": "drag-tap",
       "description": "$Pt_{x}$",
       "layout": "IPY_MODEL_661badd0cd524138b3cb4b1883914e4d",
       "max": 10,
       "min": -10,
       "step": 0.25,
       "style": "IPY_MODEL_5b8fb5b0e41f468ea7ef3ca436f3d66a"
      }
     },
     "1207d4a6ab3441c09fdd4ccc03ca3463": {
      "model_module": "@jupyter-widgets/base",
      "model_module_version": "2.0.0",
      "model_name": "LayoutModel",
      "state": {}
     },
     "1405e670d29b4deeb6b1231b6e097848": {
      "model_module": "@jupyter-widgets/controls",
      "model_module_version": "2.0.0",
      "model_name": "VBoxModel",
      "state": {
       "_dom_classes": [
        "widget-interact"
       ],
       "children": [
        "IPY_MODEL_d009331cc4ff41909d61ff2f48f60a50",
        "IPY_MODEL_9d78fa3c07dc45e09b776f8814afc45f",
        "IPY_MODEL_db67db073ab54ff387e9f62b703be7b1"
       ],
       "layout": "IPY_MODEL_fa256e0510bb4501b4e2f11cdd9a276a"
      }
     },
     "175d192e6b9248ef9d3232c203727295": {
      "model_module": "@jupyter-widgets/base",
      "model_module_version": "2.0.0",
      "model_name": "LayoutModel",
      "state": {}
     },
     "1af1433dda9a4a7c8cf89145a924c6c0": {
      "model_module": "@jupyter-widgets/controls",
      "model_module_version": "2.0.0",
      "model_name": "CheckboxStyleModel",
      "state": {
       "description_width": ""
      }
     },
     "1e27621761e94e2abcc509e27300d480": {
      "model_module": "@jupyter-widgets/base",
      "model_module_version": "2.0.0",
      "model_name": "LayoutModel",
      "state": {}
     },
     "2b434ddad6f947dca982a0faa6b789c9": {
      "model_module": "@jupyter-widgets/controls",
      "model_module_version": "2.0.0",
      "model_name": "CheckboxStyleModel",
      "state": {
       "description_width": ""
      }
     },
     "3cc6f7ec187b45468dee89e61658d757": {
      "model_module": "@jupyter-widgets/controls",
      "model_module_version": "2.0.0",
      "model_name": "DescriptionStyleModel",
      "state": {
       "description_width": ""
      }
     },
     "3e3344311e3c43248701ec03d5c38fca": {
      "model_module": "@jupyter-widgets/base",
      "model_module_version": "2.0.0",
      "model_name": "LayoutModel",
      "state": {}
     },
     "3f7814a1536f46258a83cb44c4d51eb5": {
      "model_module": "@jupyter-widgets/controls",
      "model_module_version": "2.0.0",
      "model_name": "CheckboxModel",
      "state": {
       "description": "crosslines",
       "disabled": false,
       "indent": false,
       "layout": "IPY_MODEL_1207d4a6ab3441c09fdd4ccc03ca3463",
       "style": "IPY_MODEL_1af1433dda9a4a7c8cf89145a924c6c0",
       "value": true
      }
     },
     "41ce396d8e57478ab0e59f17a01e30cc": {
      "model_module": "@jupyter-widgets/controls",
      "model_module_version": "2.0.0",
      "model_name": "PlayModel",
      "state": {
       "description": "Press play",
       "interval": 250,
       "layout": "IPY_MODEL_866dee207f4a4a3b9c6948c091d9a703",
       "max": 10,
       "min": -10,
       "style": "IPY_MODEL_3cc6f7ec187b45468dee89e61658d757",
       "value": -10
      }
     },
     "457d9610aa514857a2065dec7a9d45ce": {
      "model_module": "@jupyter-widgets/output",
      "model_module_version": "1.0.0",
      "model_name": "OutputModel",
      "state": {
       "layout": "IPY_MODEL_c949b89061f247d7b94b9ad49a8e28b7",
       "outputs": [
        {
         "data": {
          "image/png": "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",
          "text/plain": "<Figure size 400x400 with 1 Axes>"
         },
         "metadata": {},
         "output_type": "display_data"
        }
       ]
      }
     },
     "4ae90a2795ca46cdb97d952b39e2d66a": {
      "model_module": "@jupyter-widgets/controls",
      "model_module_version": "2.0.0",
      "model_name": "CheckboxModel",
      "state": {
       "description": "crosslines",
       "disabled": false,
       "layout": "IPY_MODEL_3e3344311e3c43248701ec03d5c38fca",
       "style": "IPY_MODEL_2b434ddad6f947dca982a0faa6b789c9",
       "value": true
      }
     },
     "4c1c6acfb6fb4ebd979aece37a196272": {
      "model_module": "@jupyter-widgets/base",
      "model_module_version": "2.0.0",
      "model_name": "LayoutModel",
      "state": {}
     },
     "4e5149b51d7a435fa02deb3f6236701f": {
      "model_module": "@jupyter-widgets/controls",
      "model_module_version": "2.0.0",
      "model_name": "FloatSliderModel",
      "state": {
       "behavior": "drag-tap",
       "description": "$Pt_{x}$",
       "layout": "IPY_MODEL_8bc40d098cfc4d838dad3946a3ca87af",
       "max": 10,
       "min": -10,
       "step": 0.25,
       "style": "IPY_MODEL_a9ac2ec20e0342c6a520835cc7ce802b",
       "value": -2
      }
     },
     "54785e4560df4b2cb5fa9486e8d0e590": {
      "model_module": "@jupyter-widgets/controls",
      "model_module_version": "2.0.0",
      "model_name": "DescriptionStyleModel",
      "state": {
       "description_width": ""
      }
     },
     "551fed0dd999453f803e4884b62d5d63": {
      "model_module": "@jupyter-widgets/controls",
      "model_module_version": "2.0.0",
      "model_name": "DescriptionStyleModel",
      "state": {
       "description_width": ""
      }
     },
     "5b8fb5b0e41f468ea7ef3ca436f3d66a": {
      "model_module": "@jupyter-widgets/controls",
      "model_module_version": "2.0.0",
      "model_name": "SliderStyleModel",
      "state": {
       "description_width": ""
      }
     },
     "5f0f1f6b5fb043429c8a876ae59f99b8": {
      "model_module": "@jupyter-widgets/controls",
      "model_module_version": "2.0.0",
      "model_name": "CheckboxStyleModel",
      "state": {
       "description_width": ""
      }
     },
     "5f9d5265174b45e58d4dc1b942bd1918": {
      "model_module": "@jupyter-widgets/base",
      "model_module_version": "2.0.0",
      "model_name": "LayoutModel",
      "state": {}
     },
     "659931bf7d9f44c495c7add475641b16": {
      "model_module": "@jupyter-widgets/controls",
      "model_module_version": "2.0.0",
      "model_name": "VBoxModel",
      "state": {
       "_dom_classes": [
        "widget-interact"
       ],
       "children": [
        "IPY_MODEL_41ce396d8e57478ab0e59f17a01e30cc",
        "IPY_MODEL_aa85b31e480d4199bf48a2ced67f0114",
        "IPY_MODEL_dbd3f5d61ee54ea1911d2ac632fde8bd",
        "IPY_MODEL_9aa0abf868624387887d2ec30e8c8b2e"
       ],
       "layout": "IPY_MODEL_ba5f4904355f4b90b4b4b7d4e7065256"
      }
     },
     "65eb64034c7a46d4b6e52a10775b07be": {
      "model_module": "@jupyter-widgets/controls",
      "model_module_version": "2.0.0",
      "model_name": "PlayModel",
      "state": {
       "description": "Press play",
       "interval": 250,
       "layout": "IPY_MODEL_72b9af826cad4f69b7bccb2bfbf0e78e",
       "max": 10,
       "min": -10,
       "repeat": true,
       "style": "IPY_MODEL_54785e4560df4b2cb5fa9486e8d0e590",
       "value": -2
      }
     },
     "661badd0cd524138b3cb4b1883914e4d": {
      "model_module": "@jupyter-widgets/base",
      "model_module_version": "2.0.0",
      "model_name": "LayoutModel",
      "state": {}
     },
     "6aee7b977663411ab77dbcecde7a4aa5": {
      "model_module": "@jupyter-widgets/controls",
      "model_module_version": "2.0.0",
      "model_name": "DescriptionStyleModel",
      "state": {
       "description_width": ""
      }
     },
     "72b9af826cad4f69b7bccb2bfbf0e78e": {
      "model_module": "@jupyter-widgets/base",
      "model_module_version": "2.0.0",
      "model_name": "LayoutModel",
      "state": {}
     },
     "7a9d86c1a1134e7ab18d6c7fced65e2f": {
      "model_module": "@jupyter-widgets/controls",
      "model_module_version": "2.0.0",
      "model_name": "CheckboxStyleModel",
      "state": {
       "description_width": ""
      }
     },
     "866dee207f4a4a3b9c6948c091d9a703": {
      "model_module": "@jupyter-widgets/base",
      "model_module_version": "2.0.0",
      "model_name": "LayoutModel",
      "state": {}
     },
     "885aef5091534f9c98b36040272f1998": {
      "model_module": "@jupyter-widgets/controls",
      "model_module_version": "2.0.0",
      "model_name": "HBoxModel",
      "state": {
       "children": [
        "IPY_MODEL_65eb64034c7a46d4b6e52a10775b07be",
        "IPY_MODEL_4e5149b51d7a435fa02deb3f6236701f"
       ],
       "layout": "IPY_MODEL_4c1c6acfb6fb4ebd979aece37a196272"
      }
     },
     "8bc40d098cfc4d838dad3946a3ca87af": {
      "model_module": "@jupyter-widgets/base",
      "model_module_version": "2.0.0",
      "model_name": "LayoutModel",
      "state": {}
     },
     "90b4234b28ed471c8d603218fdca8d85": {
      "model_module": "@jupyter-widgets/output",
      "model_module_version": "1.0.0",
      "model_name": "OutputModel",
      "state": {
       "layout": "IPY_MODEL_c28bc12e2a3444acb86e9b2125fe8a29",
       "outputs": [
        {
         "data": {
          "image/png": "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",
          "text/plain": "<Figure size 400x400 with 1 Axes>"
         },
         "metadata": {},
         "output_type": "display_data"
        }
       ]
      }
     },
     "917f30b89cc24688a8c68fbec330f395": {
      "model_module": "@jupyter-widgets/base",
      "model_module_version": "2.0.0",
      "model_name": "LayoutModel",
      "state": {}
     },
     "9370abe4fe5d4430a026ccdfff7a9a63": {
      "model_module": "@jupyter-widgets/base",
      "model_module_version": "2.0.0",
      "model_name": "LayoutModel",
      "state": {}
     },
     "9413af54858f495086b763673bd4c897": {
      "model_module": "@jupyter-widgets/base",
      "model_module_version": "2.0.0",
      "model_name": "LayoutModel",
      "state": {}
     },
     "95f14410de374c1e9ec7503c946a00a2": {
      "model_module": "@jupyter-widgets/base",
      "model_module_version": "2.0.0",
      "model_name": "LayoutModel",
      "state": {}
     },
     "96a1b69cf87e4dfb9f57f3ae3a42685a": {
      "model_module": "@jupyter-widgets/controls",
      "model_module_version": "2.0.0",
      "model_name": "VBoxModel",
      "state": {
       "children": [
        "IPY_MODEL_885aef5091534f9c98b36040272f1998",
        "IPY_MODEL_fab2e6ca597f4304aec67e348126289a",
        "IPY_MODEL_3f7814a1536f46258a83cb44c4d51eb5"
       ],
       "layout": "IPY_MODEL_a8bf94a475c642359878749eb89a3c40"
      }
     },
     "9aa0abf868624387887d2ec30e8c8b2e": {
      "model_module": "@jupyter-widgets/output",
      "model_module_version": "1.0.0",
      "model_name": "OutputModel",
      "state": {
       "layout": "IPY_MODEL_9370abe4fe5d4430a026ccdfff7a9a63",
       "outputs": [
        {
         "data": {
          "image/png": "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",
          "text/plain": "<Figure size 400x400 with 1 Axes>"
         },
         "metadata": {},
         "output_type": "display_data"
        }
       ]
      }
     },
     "9aa9b25ef19b4b62b354dacdef40d4cd": {
      "model_module": "@jupyter-widgets/controls",
      "model_module_version": "2.0.0",
      "model_name": "SliderStyleModel",
      "state": {
       "description_width": ""
      }
     },
     "9d78fa3c07dc45e09b776f8814afc45f": {
      "model_module": "@jupyter-widgets/controls",
      "model_module_version": "2.0.0",
      "model_name": "DropdownModel",
      "state": {
       "_options_labels": [
        "0",
        "1",
        "2",
        "3",
        "4"
       ],
       "description": "pow",
       "index": 2,
       "layout": "IPY_MODEL_1e27621761e94e2abcc509e27300d480",
       "style": "IPY_MODEL_6aee7b977663411ab77dbcecde7a4aa5"
      }
     },
     "a89d3d417f3a4606825b047b85c92a03": {
      "model_module": "@jupyter-widgets/output",
      "model_module_version": "1.0.0",
      "model_name": "OutputModel",
      "state": {
       "layout": "IPY_MODEL_9413af54858f495086b763673bd4c897",
       "outputs": [
        {
         "data": {
          "image/png": "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",
          "text/plain": "<Figure size 400x400 with 1 Axes>"
         },
         "metadata": {},
         "output_type": "display_data"
        }
       ]
      }
     },
     "a8bf94a475c642359878749eb89a3c40": {
      "model_module": "@jupyter-widgets/base",
      "model_module_version": "2.0.0",
      "model_name": "LayoutModel",
      "state": {}
     },
     "a9ac2ec20e0342c6a520835cc7ce802b": {
      "model_module": "@jupyter-widgets/controls",
      "model_module_version": "2.0.0",
      "model_name": "SliderStyleModel",
      "state": {
       "description_width": ""
      }
     },
     "aa85b31e480d4199bf48a2ced67f0114": {
      "model_module": "@jupyter-widgets/controls",
      "model_module_version": "2.0.0",
      "model_name": "DropdownModel",
      "state": {
       "_options_labels": [
        "green",
        "orange",
        "silver"
       ],
       "description": "color_tang",
       "index": 0,
       "layout": "IPY_MODEL_eecc0296b24246f89808c9abfae2a9be",
       "style": "IPY_MODEL_e73cf9e100444139892a1892fe4f2853"
      }
     },
     "b12d19a6f06e4994ad5fc445726974b4": {
      "model_module": "@jupyter-widgets/controls",
      "model_module_version": "2.0.0",
      "model_name": "DropdownModel",
      "state": {
       "_options_labels": [
        "green",
        "orange",
        "silver"
       ],
       "description": "color_tang",
       "index": 0,
       "layout": "IPY_MODEL_175d192e6b9248ef9d3232c203727295",
       "style": "IPY_MODEL_551fed0dd999453f803e4884b62d5d63"
      }
     },
     "ba5f4904355f4b90b4b4b7d4e7065256": {
      "model_module": "@jupyter-widgets/base",
      "model_module_version": "2.0.0",
      "model_name": "LayoutModel",
      "state": {}
     },
     "c28bc12e2a3444acb86e9b2125fe8a29": {
      "model_module": "@jupyter-widgets/base",
      "model_module_version": "2.0.0",
      "model_name": "LayoutModel",
      "state": {}
     },
     "c3815e8e2c184cb880b34e464831a975": {
      "model_module": "@jupyter-widgets/controls",
      "model_module_version": "2.0.0",
      "model_name": "DescriptionStyleModel",
      "state": {
       "description_width": ""
      }
     },
     "c926237b7a6f43b6898c29e723c64266": {
      "model_module": "@jupyter-widgets/base",
      "model_module_version": "2.0.0",
      "model_name": "LayoutModel",
      "state": {}
     },
     "c949b89061f247d7b94b9ad49a8e28b7": {
      "model_module": "@jupyter-widgets/base",
      "model_module_version": "2.0.0",
      "model_name": "LayoutModel",
      "state": {}
     },
     "cb10536e8fa348749a71d5de80e242e7": {
      "model_module": "@jupyter-widgets/controls",
      "model_module_version": "2.0.0",
      "model_name": "DescriptionStyleModel",
      "state": {
       "description_width": ""
      }
     },
     "cd81c3c9619c434d8c31fff8eda2ed2c": {
      "model_module": "@jupyter-widgets/base",
      "model_module_version": "2.0.0",
      "model_name": "LayoutModel",
      "state": {}
     },
     "d009331cc4ff41909d61ff2f48f60a50": {
      "model_module": "@jupyter-widgets/controls",
      "model_module_version": "2.0.0",
      "model_name": "IntSliderModel",
      "state": {
       "behavior": "drag-tap",
       "description": "x",
       "layout": "IPY_MODEL_cd81c3c9619c434d8c31fff8eda2ed2c",
       "max": 10,
       "style": "IPY_MODEL_efd70661e8a54968b264f7f2fc3a773d",
       "value": 5
      }
     },
     "d0dce8201e1f47a18023c438cd7632f1": {
      "model_module": "@jupyter-widgets/controls",
      "model_module_version": "2.0.0",
      "model_name": "VBoxModel",
      "state": {
       "_dom_classes": [
        "widget-interact"
       ],
       "children": [
        "IPY_MODEL_ebbd5ce0f490424e8f75292ec897bb3f",
        "IPY_MODEL_b12d19a6f06e4994ad5fc445726974b4",
        "IPY_MODEL_4ae90a2795ca46cdb97d952b39e2d66a",
        "IPY_MODEL_90b4234b28ed471c8d603218fdca8d85"
       ],
       "layout": "IPY_MODEL_c926237b7a6f43b6898c29e723c64266"
      }
     },
     "d12f185b3aa5431a827d007792c943f4": {
      "model_module": "@jupyter-widgets/controls",
      "model_module_version": "2.0.0",
      "model_name": "VBoxModel",
      "state": {
       "_dom_classes": [
        "widget-interact"
       ],
       "children": [
        "IPY_MODEL_0a40c5f33d594722a6df902f86fc742c",
        "IPY_MODEL_dca26f14d09b4a2982dc6a90c599ef07",
        "IPY_MODEL_dce1ba0e99f8401f9e648090fd28270e",
        "IPY_MODEL_457d9610aa514857a2065dec7a9d45ce"
       ],
       "layout": "IPY_MODEL_f68dbe0cd38f4b62b1a1ced9ec0c8f0e"
      }
     },
     "db67db073ab54ff387e9f62b703be7b1": {
      "model_module": "@jupyter-widgets/output",
      "model_module_version": "1.0.0",
      "model_name": "OutputModel",
      "state": {
       "layout": "IPY_MODEL_f0060c26dc5141d4a6f93b3a09ca380d",
       "outputs": [
        {
         "name": "stdout",
         "output_type": "stream",
         "text": "x:  [0, 1, 4, 9, 16, 25]\n"
        }
       ]
      }
     },
     "dbd3f5d61ee54ea1911d2ac632fde8bd": {
      "model_module": "@jupyter-widgets/controls",
      "model_module_version": "2.0.0",
      "model_name": "CheckboxModel",
      "state": {
       "description": "crosslines",
       "disabled": false,
       "layout": "IPY_MODEL_f3490fabb719462087f7d88dc9c79f9f",
       "style": "IPY_MODEL_5f0f1f6b5fb043429c8a876ae59f99b8",
       "value": true
      }
     },
     "dca26f14d09b4a2982dc6a90c599ef07": {
      "model_module": "@jupyter-widgets/controls",
      "model_module_version": "2.0.0",
      "model_name": "DropdownModel",
      "state": {
       "_options_labels": [
        "green",
        "orange",
        "silver"
       ],
       "description": "color_tang",
       "index": 0,
       "layout": "IPY_MODEL_f468d4db0b9a4bf98434cdee7212f6cd",
       "style": "IPY_MODEL_cb10536e8fa348749a71d5de80e242e7"
      }
     },
     "dce1ba0e99f8401f9e648090fd28270e": {
      "model_module": "@jupyter-widgets/controls",
      "model_module_version": "2.0.0",
      "model_name": "CheckboxModel",
      "state": {
       "description": "crosslines",
       "disabled": false,
       "layout": "IPY_MODEL_95f14410de374c1e9ec7503c946a00a2",
       "style": "IPY_MODEL_7a9d86c1a1134e7ab18d6c7fced65e2f",
       "value": true
      }
     },
     "e73cf9e100444139892a1892fe4f2853": {
      "model_module": "@jupyter-widgets/controls",
      "model_module_version": "2.0.0",
      "model_name": "DescriptionStyleModel",
      "state": {
       "description_width": ""
      }
     },
     "ebbd5ce0f490424e8f75292ec897bb3f": {
      "model_module": "@jupyter-widgets/controls",
      "model_module_version": "2.0.0",
      "model_name": "FloatSliderModel",
      "state": {
       "behavior": "drag-tap",
       "description": "pt_x",
       "layout": "IPY_MODEL_917f30b89cc24688a8c68fbec330f395",
       "max": 10,
       "min": -10,
       "step": 0.25,
       "style": "IPY_MODEL_9aa9b25ef19b4b62b354dacdef40d4cd"
      }
     },
     "eecc0296b24246f89808c9abfae2a9be": {
      "model_module": "@jupyter-widgets/base",
      "model_module_version": "2.0.0",
      "model_name": "LayoutModel",
      "state": {}
     },
     "efd70661e8a54968b264f7f2fc3a773d": {
      "model_module": "@jupyter-widgets/controls",
      "model_module_version": "2.0.0",
      "model_name": "SliderStyleModel",
      "state": {
       "description_width": ""
      }
     },
     "f0060c26dc5141d4a6f93b3a09ca380d": {
      "model_module": "@jupyter-widgets/base",
      "model_module_version": "2.0.0",
      "model_name": "LayoutModel",
      "state": {}
     },
     "f3490fabb719462087f7d88dc9c79f9f": {
      "model_module": "@jupyter-widgets/base",
      "model_module_version": "2.0.0",
      "model_name": "LayoutModel",
      "state": {}
     },
     "f468d4db0b9a4bf98434cdee7212f6cd": {
      "model_module": "@jupyter-widgets/base",
      "model_module_version": "2.0.0",
      "model_name": "LayoutModel",
      "state": {}
     },
     "f536e843107e4b5d95f28cfd6c5a6f6f": {
      "model_module": "@jupyter-widgets/controls",
      "model_module_version": "2.0.0",
      "model_name": "LinkModel",
      "state": {
       "source": [
        "IPY_MODEL_65eb64034c7a46d4b6e52a10775b07be",
        "value"
       ],
       "target": [
        "IPY_MODEL_4e5149b51d7a435fa02deb3f6236701f",
        "value"
       ]
      }
     },
     "f68dbe0cd38f4b62b1a1ced9ec0c8f0e": {
      "model_module": "@jupyter-widgets/base",
      "model_module_version": "2.0.0",
      "model_name": "LayoutModel",
      "state": {}
     },
     "fa256e0510bb4501b4e2f11cdd9a276a": {
      "model_module": "@jupyter-widgets/base",
      "model_module_version": "2.0.0",
      "model_name": "LayoutModel",
      "state": {}
     },
     "fab2e6ca597f4304aec67e348126289a": {
      "model_module": "@jupyter-widgets/controls",
      "model_module_version": "2.0.0",
      "model_name": "DropdownModel",
      "state": {
       "_options_labels": [
        "green",
        "orange",
        "silver"
       ],
       "description": "color_tang",
       "index": 1,
       "layout": "IPY_MODEL_5f9d5265174b45e58d4dc1b942bd1918",
       "style": "IPY_MODEL_c3815e8e2c184cb880b34e464831a975"
      }
     }
    },
    "version_major": 2,
    "version_minor": 0
   }
  }
 },
 "nbformat": 4,
 "nbformat_minor": 5
}
